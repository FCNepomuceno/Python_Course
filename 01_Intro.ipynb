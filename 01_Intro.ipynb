{
 "cells": [
  {
   "cell_type": "markdown",
   "metadata": {},
   "source": [
    "[![Open In Colab](https://colab.research.google.com/assets/colab-badge.svg)](https://colab.research.google.com/github/googlecolab/colabtools/blob/master/notebooks/colab-github-demo.ipynb)\n"
   ]
  },
  {
   "cell_type": "markdown",
   "metadata": {
    "id": "y9J5jn2DteoR"
   },
   "source": [
    "# A Quick Tour of Python\n",
    "\n",
    "## Jupyter Notebook & Colab\n",
    "\n",
    "The framework we are using here is Google Colaboratory (or *colab* for short), Google's flavor of so called \"Jupyter notebooks\". A Jupyter notebook is composed of cells, which can either be filled with text (as this cell) or with code (as in the cell below). To run the code in a cell with code, click that cell and then click the \"play\" button that appears next to the cell. Try running the cell below; if you prefer, instead of using the \"play\" button, you can use the keyboard shortcut of \"Shift-Enter\" to run a cell of code. [Note: You might get a warning that this notebook was not authored by Google when running the first cell.]"
   ]
  },
  {
   "cell_type": "code",
   "execution_count": 14,
   "metadata": {
    "id": "R4oRe6KDt9Ci"
   },
   "outputs": [
    {
     "data": {
      "text/plain": [
       "4"
      ]
     },
     "execution_count": 14,
     "metadata": {},
     "output_type": "execute_result"
    }
   ],
   "source": [
    "2 + 2"
   ]
  },
  {
   "cell_type": "markdown",
   "metadata": {
    "id": "S3_qU3zRudxa"
   },
   "source": [
    "Once you run a cell, the output of the final line of code in the cell will appear below that cell. For example, you should see the output of 4 under the code cell above. However, not all Python lines of code will generate any output.\n",
    "\n",
    "If you want to add additional cells to the notebook, you can do so using the \"+Code\" and \"+Text\" buttons below the menu. (This is useful if you need some scratch space to test out a few lines of code)."
   ]
  },
  {
   "cell_type": "markdown",
   "metadata": {
    "id": "FCYtGMwhwu-5"
   },
   "source": [
    "#### a. Comments\n",
    "\n",
    "In any block of Python code, you can insert a comment by starting the comment's line with a hashtag. Such a line will not be executed:"
   ]
  },
  {
   "cell_type": "code",
   "execution_count": 15,
   "metadata": {
    "id": "tuC_rHTBw1DR"
   },
   "outputs": [
    {
     "name": "stdout",
     "output_type": "stream",
     "text": [
      "This is not a comment\n"
     ]
    }
   ],
   "source": [
    "# This is a comment, so it won't be executed.\n",
    "# 2 + 2\n",
    "print('This is not a comment')"
   ]
  },
  {
   "cell_type": "markdown",
   "metadata": {
    "id": "2IDJbX-lw7ul"
   },
   "source": [
    "#### b. Variable assignment\n",
    "\n",
    "You can create a variable by typing the variable name, followed by an equals sign, followed by the value of the variable."
   ]
  },
  {
   "cell_type": "code",
   "execution_count": null,
   "metadata": {
    "id": "d7yG4ETTxE_z"
   },
   "outputs": [],
   "source": [
    "my_variable = 3"
   ]
  },
  {
   "cell_type": "markdown",
   "metadata": {
    "id": "SAzOBoudw9UZ"
   },
   "source": [
    "Once you have saved a variable, you can use that variable, even in different Jupyter cells:\n"
   ]
  },
  {
   "cell_type": "code",
   "execution_count": null,
   "metadata": {
    "colab": {
     "base_uri": "https://localhost:8080/"
    },
    "id": "g9sLNWvfxO5a",
    "outputId": "bd615cbf-ec1e-4dc3-bd06-a2170b2635e6"
   },
   "outputs": [
    {
     "data": {
      "text/plain": [
       "6"
      ]
     },
     "execution_count": 3,
     "metadata": {},
     "output_type": "execute_result"
    }
   ],
   "source": [
    "twice_my_variable = my_variable * 2\n",
    "twice_my_variable"
   ]
  },
  {
   "cell_type": "markdown",
   "metadata": {
    "id": "jfuZqVA-xT5y"
   },
   "source": [
    "You can also change the value of a variable:"
   ]
  },
  {
   "cell_type": "code",
   "execution_count": 16,
   "metadata": {
    "colab": {
     "base_uri": "https://localhost:8080/"
    },
    "id": "CzbgOR_kxZhG",
    "outputId": "86e28d0a-56db-4616-97be-178521dee91f"
   },
   "outputs": [
    {
     "name": "stdout",
     "output_type": "stream",
     "text": [
      "My number initially is: 4\n",
      "My number now is: 7\n"
     ]
    }
   ],
   "source": [
    "my_number = 4\n",
    "print(\"My number initially is:\", my_number) # Here we use the print function to display output\n",
    "\n",
    "my_number = my_number + 3\n",
    "print(\"My number now is:\", my_number)"
   ]
  },
  {
   "cell_type": "markdown",
   "metadata": {
    "id": "KlqGO2GTxXsB"
   },
   "source": [
    "In the cell below, create a variable called ``dozen`` and set it equal to 12. Then create another variable called ``bakers_dozen`` defined as ``dozen + 1``. Then print out both of their values.\n"
   ]
  },
  {
   "cell_type": "code",
   "execution_count": 17,
   "metadata": {
    "id": "uxkPodxNxofi"
   },
   "outputs": [],
   "source": [
    "# EXERCISE\n",
    "\n",
    "# Define a variable called dozen and set it equal to 12\n",
    "\n",
    "# Define a variable called bakers_dozen and set it equal to dozen + 1\n",
    "\n",
    "# Print out the values of dozen and bakers_dozen\n",
    "\n"
   ]
  },
  {
   "cell_type": "markdown",
   "metadata": {},
   "source": [
    "## Python is a sequential language\n",
    "\n",
    "When writing and running a python script, it is important to keep in mind that python works in a sequential manner. That means that the code will run in the order it is presented, unless told otherwise. Some languages, like R, can be run in the order decided by the programmer. In our case, when told to run a cell, the whole content of the cell will be executed.\n",
    "\n",
    "Consider the following example:"
   ]
  },
  {
   "cell_type": "code",
   "execution_count": 20,
   "metadata": {},
   "outputs": [
    {
     "name": "stdout",
     "output_type": "stream",
     "text": [
      "5\n"
     ]
    }
   ],
   "source": [
    "x = 1\n",
    "x = 2\n",
    "x = 3\n",
    "x = 4\n",
    "x = 5\n",
    "print(x)"
   ]
  },
  {
   "cell_type": "markdown",
   "metadata": {},
   "source": [
    "The value of 'x' was changed from 1 to 5, but only the last value was printed. As oposed to:"
   ]
  },
  {
   "cell_type": "code",
   "execution_count": 21,
   "metadata": {},
   "outputs": [
    {
     "ename": "NameError",
     "evalue": "name 'y' is not defined",
     "output_type": "error",
     "traceback": [
      "\u001b[0;31m---------------------------------------------------------------------------\u001b[0m",
      "\u001b[0;31mNameError\u001b[0m                                 Traceback (most recent call last)",
      "Input \u001b[0;32mIn [21]\u001b[0m, in \u001b[0;36m<cell line: 1>\u001b[0;34m()\u001b[0m\n\u001b[0;32m----> 1\u001b[0m \u001b[38;5;28mprint\u001b[39m(\u001b[43my\u001b[49m)\n\u001b[1;32m      2\u001b[0m y \u001b[38;5;241m=\u001b[39m \u001b[38;5;241m1\u001b[39m\n\u001b[1;32m      3\u001b[0m y \u001b[38;5;241m=\u001b[39m \u001b[38;5;241m2\u001b[39m\n",
      "\u001b[0;31mNameError\u001b[0m: name 'y' is not defined"
     ]
    }
   ],
   "source": [
    "print(y)\n",
    "y = 1\n",
    "y = 2\n",
    "y = 3\n",
    "y = 4\n",
    "y = 5"
   ]
  },
  {
   "cell_type": "markdown",
   "metadata": {},
   "source": [
    "In this case, we tried to use a variable before it was created. Python will not know which variable that is and it will return an error."
   ]
  },
  {
   "cell_type": "markdown",
   "metadata": {},
   "source": [
    "To works around this 'sequential' nature, we will use something called 'control flow' which will be discussed in a few moments. Here is an example working around the previous example:"
   ]
  },
  {
   "cell_type": "code",
   "execution_count": 23,
   "metadata": {},
   "outputs": [
    {
     "name": "stdout",
     "output_type": "stream",
     "text": [
      "1\n",
      "2\n",
      "3\n",
      "4\n",
      "5\n"
     ]
    }
   ],
   "source": [
    "for x in range(1,6):\n",
    "    print(x)"
   ]
  },
  {
   "cell_type": "markdown",
   "metadata": {
    "id": "gR8gMNaHteoS"
   },
   "source": [
    "## Python Syntax\n",
    "\n",
    "*Python* was originally developed as a teaching language, but its ease of use and clean syntax have led it to be embraced by beginners and experts alike.\n",
    "The cleanliness of Python's syntax has led some to call it \"executable pseudocode\", and indeed it is often much easier to read and understand a Python script than to read a similar script written in, say, C or Java.\n",
    "Here we'll begin to discuss the main features of Python's syntax.\n",
    "\n",
    "##### Syntax refers to the structure of the language (i.e., what constitutes a correctly-formed program). For the time being, we'll not focus on the semantics – the meaning of the words and symbols within the syntax – but will return to this at a later point.\n",
    "\n",
    "Consider the following code example:"
   ]
  },
  {
   "cell_type": "code",
   "execution_count": null,
   "metadata": {
    "id": "Z5Q7U5fAteoU",
    "outputId": "2a2e6f08-6607-4d60-e1b5-b6aa42ee21c1"
   },
   "outputs": [
    {
     "name": "stdout",
     "output_type": "stream",
     "text": [
      "lower: [0, 1, 2, 3, 4]\n",
      "upper: [5, 6, 7, 8, 9]\n"
     ]
    }
   ],
   "source": [
    "# set the midpoint\n",
    "midpoint = 5\n",
    "\n",
    "# make two empty lists\n",
    "lower = []; upper = []\n",
    "\n",
    "# split the numbers into lower and upper\n",
    "for i in range(10):\n",
    "    if (i < midpoint):\n",
    "        lower.append(i)\n",
    "    else:\n",
    "        upper.append(i)\n",
    "        \n",
    "print(\"lower:\", lower)\n",
    "print(\"upper:\", upper)"
   ]
  },
  {
   "cell_type": "markdown",
   "metadata": {
    "id": "jrcU9-igteoW"
   },
   "source": [
    "This script is a bit silly, but it compactly illustrates several of the important aspects of Python syntax.\n",
    "Let's walk through it and discuss some of the syntactical features of Python"
   ]
  },
  {
   "cell_type": "markdown",
   "metadata": {
    "id": "q-pUTg7yteoW"
   },
   "source": [
    "## Comments Are Marked by ``#``\n",
    "The script starts with a comment:\n",
    "``` python\n",
    "# set the midpoint\n",
    "```\n",
    "Comments in Python are indicated by a pound sign (``#``), and anything on the line following the pound sign is ignored by the interpreter.\n",
    "This means, for example, that you can have stand-alone comments like the one just shown, as well as inline comments that follow a statement. For example:\n",
    "``` python\n",
    "x += 2  # shorthand for x = x + 2\n",
    "```"
   ]
  },
  {
   "cell_type": "markdown",
   "metadata": {
    "id": "_hm4LmY9teoX"
   },
   "source": [
    "## End-of-Line Terminates a Statement\n",
    "The next line in the script is\n",
    "``` python\n",
    "midpoint = 5\n",
    "```\n",
    "This is an assignment operation, where we've created a variable named ``midpoint`` and assigned it the value ``5``.\n",
    "Notice that the end of this statement is simply marked by the end of the line.\n",
    "\n",
    "In Python, if you'd like a statement to continue to the next line, it is possible to use the \"``\\``\" marker to indicate this:"
   ]
  },
  {
   "cell_type": "code",
   "execution_count": null,
   "metadata": {
    "id": "E7q1BkhdteoY"
   },
   "outputs": [],
   "source": [
    "x = 1 + 2 + 3 + 4 +\\\n",
    "    5 + 6 + 7 + 8"
   ]
  },
  {
   "cell_type": "markdown",
   "metadata": {
    "id": "cMkNOfywteoY"
   },
   "source": [
    "It is also possible to continue expressions on the next line within parentheses, without using the \"``\\``\" marker:"
   ]
  },
  {
   "cell_type": "code",
   "execution_count": null,
   "metadata": {
    "id": "oPaC5XActeoZ"
   },
   "outputs": [],
   "source": [
    "x = (1 + 2 + 3 + 4 +\n",
    "     5 + 6 + 7 + 8)"
   ]
  },
  {
   "cell_type": "markdown",
   "metadata": {
    "id": "z63kF4Tgteoa"
   },
   "source": [
    "## Indentation: Whitespace Matters!\n",
    "Next, we get to the main block of code:\n",
    "``` Python\n",
    "for i in range(10):\n",
    "    if i < midpoint:\n",
    "        lower.append(i)\n",
    "    else:\n",
    "        upper.append(i)\n",
    "```\n",
    "This is a compound control-flow statement including a loop and a conditional – we'll look at these types of statements in a moment.\n",
    "For now, consider that this demonstrates what is perhaps the most controversial feature of Python's syntax: whitespace is meaningful!\n",
    "\n",
    "In programming languages, a *block* of code is a set of statements that should be treated as a unit.\n",
    "In C, for example, code blocks are denoted by curly braces:\n",
    "``` C\n",
    "// C code\n",
    "for(int i=0; i<100; i++)\n",
    "   {\n",
    "      // curly braces indicate code block\n",
    "      total += i;\n",
    "   }\n",
    "```\n",
    "In Python, code blocks are denoted by *indentation*:\n",
    "``` python\n",
    "for i in range(100):\n",
    "    # indentation indicates code block\n",
    "    total += i\n",
    "```\n",
    "#### In Python, indented code blocks are always preceded by a colon (``:``) on the previous line."
   ]
  },
  {
   "cell_type": "markdown",
   "metadata": {
    "id": "wwYXrDVmteoa"
   },
   "source": [
    "The use of indentation helps to enforce the uniform, readable style that many find appealing in Python code.\n",
    "But it might be confusing to the uninitiated; for example, the following two snippets will produce different results:\n",
    "```python\n",
    ">>> if x < 4:         >>> if x < 4:\n",
    "...     y = x * 2     ...     y = x * 2\n",
    "...     print(x)      ... print(x)\n",
    "```\n",
    "In the snippet on the left, ``print(x)`` is in the indented block, and will be executed only if ``x`` is less than ``4``.\n",
    "In the snippet on the right ``print(x)`` is outside the block, and will be executed regardless of the value of ``x``!"
   ]
  },
  {
   "cell_type": "markdown",
   "metadata": {},
   "source": [
    "Now, fix the identation of the following block code. The expected output is that each number of the list of numbers is printed once, but the list of letters is printed 10 times, one after each number. As such:\n",
    "1\n",
    "a\n",
    "b\n",
    "c\n",
    "d\n",
    "e\n",
    "f\n",
    "g\n",
    "h\n",
    "j\n",
    "2\n",
    "a\n",
    "b\n",
    "c\n",
    "d\n",
    "e\n",
    "f\n",
    "g\n",
    "h\n",
    "j\n",
    "3\n",
    "a\n",
    "b\n",
    ".\n",
    ".\n",
    "."
   ]
  },
  {
   "cell_type": "code",
   "execution_count": 24,
   "metadata": {},
   "outputs": [
    {
     "ename": "IndentationError",
     "evalue": "expected an indented block (<ipython-input-24-14c13522eff6>, line 7)",
     "output_type": "error",
     "traceback": [
      "\u001b[0;36m  Input \u001b[0;32mIn [24]\u001b[0;36m\u001b[0m\n\u001b[0;31m    print(number, end=' ')\u001b[0m\n\u001b[0m    ^\u001b[0m\n\u001b[0;31mIndentationError\u001b[0m\u001b[0;31m:\u001b[0m expected an indented block\n"
     ]
    }
   ],
   "source": [
    "# EXERCISE\n",
    "\n",
    "list_of_numbers = [1, 2, 3, 4, 5, 6, 7, 8, 9, 10]\n",
    "list_of_letters = ['a', 'b', 'c', 'd', 'e', 'f', 'g', 'h', 'j']\n",
    "\n",
    "for number in list_of_numbers:\n",
    "print(number, end=' ')\n",
    "for letter in list_of_letters:\n",
    "print(letter, end=' ')"
   ]
  },
  {
   "cell_type": "markdown",
   "metadata": {
    "id": "1v97hLO1teob"
   },
   "source": [
    "## Whitespace *Within* Lines Does Not Matter\n",
    "While the mantra of *meaningful whitespace* holds true for whitespace *before* lines (which indicate a code block), white space *within* lines of Python code does not matter.\n",
    "For example, all three of these expressions are equivalent:"
   ]
  },
  {
   "cell_type": "code",
   "execution_count": null,
   "metadata": {
    "id": "lE0bL4OHteob"
   },
   "outputs": [],
   "source": [
    "x=1+2\n",
    "x = 1 + 2\n",
    "x             =        1    +                2"
   ]
  },
  {
   "cell_type": "markdown",
   "metadata": {
    "id": "qJJ7sVbbteob"
   },
   "source": [
    "Abusing this flexibility can lead to issues with code readibility – in fact, abusing white space is often one of the primary means of intentionally obfuscating code (which some people do for sport).\n",
    "Using whitespace effectively can lead to much more readable code, \n",
    "especially in cases where operators follow each other – compare the following two expressions for exponentiating by a negative number:\n",
    "``` python\n",
    "x=10**-2\n",
    "```\n",
    "to\n",
    "``` python\n",
    "x = 10 ** -2\n",
    "```\n",
    "The second version with spaces is much more easily readable at a single glance.\n",
    "#### Most Python style guides recommend using a single space around binary operators, and no space around unary operators."
   ]
  },
  {
   "cell_type": "markdown",
   "metadata": {},
   "source": [
    "Now, fix the following code block, so it works perfectly, without any error messages. Tip: Focus on identation and spacing issues. Expected output: \n",
    "\n",
    "The number 1 is odd \n",
    "\n",
    "The number 2 is even \n",
    "\n",
    "The number 3 is odd \n",
    "\n",
    "The number 4 is even\n",
    "\n",
    "The number 5 is odd\n",
    "\n",
    "The number 6 is even\n",
    "\n",
    "The number 7 is odd\n",
    "\n",
    "The number 8 is even\n",
    "\n",
    "The number 9 is odd\n",
    "\n",
    "The number 10 is even\n",
    "\n",
    "[1, 3, 5, 7, 9] [2, 4, 6, 8, 10]"
   ]
  },
  {
   "cell_type": "code",
   "execution_count": 25,
   "metadata": {
    "id": "5p04bHEZ0fiZ"
   },
   "outputs": [
    {
     "ename": "IndentationError",
     "evalue": "expected an indented block (<ipython-input-25-55315bf01d26>, line 9)",
     "output_type": "error",
     "traceback": [
      "\u001b[0;36m  Input \u001b[0;32mIn [25]\u001b[0;36m\u001b[0m\n\u001b[0;31m    if (number%2 == 0): # The '%' sign means \"get the remainder of the division between these numbers\". If it is 0, division has no remainder, so the number is even. Otherwise, it is odd.\u001b[0m\n\u001b[0m    ^\u001b[0m\n\u001b[0;31mIndentationError\u001b[0m\u001b[0;31m:\u001b[0m expected an indented block\n"
     ]
    }
   ],
   "source": [
    "# EXERCISE\n",
    "\n",
    "list_of_numbers = [1, 2, 3, 4, 5, 6, 7, 8, 9, 10]\n",
    "even = [] #creating an empty variable which will be used in the future\n",
    "odd = [] #creating an empty variable which will be used in the future\n",
    "\n",
    "\n",
    "for number in list_of_numbers:\n",
    "if (number%2 == 0): # The '%' sign means \"get the remainder of the division between these numbers\". If it is 0, division has no remainder, so the number is even. Otherwise, it is odd.\n",
    "print('The number {} is even'.format(number)) # This is printing something we want on the screen, regardless if it is the last line of code from the block. \n",
    "even.append(number) # The method '.append' is a method from the structure even (which is a list). This method adds an element to the end of a existing list.\n",
    "if (number%2 == 1):\n",
    "print('The number {} is odd'.format(number))\n",
    "odd.append(number)\n",
    "        \n",
    "print(odd, even)"
   ]
  }
 ],
 "metadata": {
  "anaconda-cloud": {},
  "colab": {
   "provenance": []
  },
  "kernelspec": {
   "display_name": "Python 3",
   "language": "python",
   "name": "python3"
  },
  "language_info": {
   "codemirror_mode": {
    "name": "ipython",
    "version": 3
   },
   "file_extension": ".py",
   "mimetype": "text/x-python",
   "name": "python",
   "nbconvert_exporter": "python",
   "pygments_lexer": "ipython3",
   "version": "3.8.10"
  },
  "vscode": {
   "interpreter": {
    "hash": "31f2aee4e71d21fbe5cf8b01ff0e069b9275f58929596ceb00d14d90e3e16cd6"
   }
  }
 },
 "nbformat": 4,
 "nbformat_minor": 1
}
